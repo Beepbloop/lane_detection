{
 "cells": [
  {
   "cell_type": "code",
   "execution_count": 1,
   "metadata": {},
   "outputs": [],
   "source": [
    "import numpy as np\n",
    "import numpy.ma as ma\n",
    "from ColorDetection import *"
   ]
  },
  {
   "cell_type": "markdown",
   "metadata": {},
   "source": [
    "# Test code please ignore"
   ]
  },
  {
   "cell_type": "code",
   "execution_count": 2,
   "metadata": {},
   "outputs": [
    {
     "data": {
      "text/plain": [
       "array([[ True, False, False, False,  True],\n",
       "       [ True, False, False, False,  True],\n",
       "       [ True, False, False, False,  True],\n",
       "       [ True, False, False, False,  True]])"
      ]
     },
     "execution_count": 2,
     "metadata": {},
     "output_type": "execute_result"
    }
   ],
   "source": [
    "a=np.array([[1,2,3,4,5],[1,2,3,4,5],[1,2,3,4,5]])\n",
    "b=np.array([[0,2,1,255,0],[0,2,1,255,0],[0,2,1,255,0],[0,2,1,255,0]])\n",
    "mask = b==0\n",
    "mask"
   ]
  },
  {
   "cell_type": "code",
   "execution_count": 3,
   "metadata": {},
   "outputs": [
    {
     "data": {
      "text/plain": [
       "array([[1, 2, 5],\n",
       "       [1, 8, 5]])"
      ]
     },
     "execution_count": 3,
     "metadata": {},
     "output_type": "execute_result"
    }
   ],
   "source": [
    "a = np.array([[1,2,3],[1,8,3]])\n",
    "b = np.array([[0,1,5],[0,1,5]])\n",
    "np.maximum(a,b)"
   ]
  },
  {
   "cell_type": "code",
   "execution_count": 4,
   "metadata": {},
   "outputs": [],
   "source": [
    "def rand_color():\n",
    "    return np.random.randint(256,size=3)"
   ]
  },
  {
   "cell_type": "code",
   "execution_count": 5,
   "metadata": {},
   "outputs": [],
   "source": [
    "def rand_chunk():\n",
    "    return np.array([[rand_color(),rand_color()],[rand_color(),rand_color()]])"
   ]
  },
  {
   "cell_type": "code",
   "execution_count": 6,
   "metadata": {},
   "outputs": [],
   "source": [
    "img = rand_chunk()"
   ]
  },
  {
   "cell_type": "code",
   "execution_count": 7,
   "metadata": {},
   "outputs": [],
   "source": [
    "def RGB_to_HSVold(rgb):\n",
    "    \n",
    "    rows = rgb.shape[0]\n",
    "    cols = rgb.shape[1]\n",
    "    hsvImage = np.zeros((rows, cols, 3))\n",
    "    \n",
    "    for y in range(rows):\n",
    "        for x in range(cols):\n",
    "            redPrime = rgb[y,x,0] / 255\n",
    "            greenPrime = rgb[y,x,1] / 255\n",
    "            bluePrime = rgb[y,x,2] / 255\n",
    "            \n",
    "            cMax = max(redPrime, greenPrime, bluePrime)\n",
    "            cMin = min(redPrime, greenPrime, bluePrime)\n",
    "            delta = cMax - cMin\n",
    "            \n",
    "            #hue (color wheel (0 <= hue < 360))\n",
    "            if delta == 0: #if there is no net hue (no dominating color) of a pixel, set the hue to 0\n",
    "                hsvImage[y][x][0] = 0\n",
    "            elif cMax == redPrime:\n",
    "                hsvImage[y][x][0] = (60 * ((greenPrime - bluePrime) / delta) + 360) % 360 #reds are the first third of the color wheel\n",
    "            elif cMax == greenPrime:\n",
    "                hsvImage[y][x][0] = (60 * ((bluePrime - redPrime) / delta) + 120) % 360 #greens are the second third of the color wheel\n",
    "            elif cMax == bluePrime:\n",
    "                hsvImage[y][x][0] = (60 * ((redPrime - greenPrime) / delta) + 240) % 360 #blues are the third third of the color wheel\n",
    "            \n",
    "            #saturation (lower value is more white, higher value is more colored (0 <= saturation <= 1000))\n",
    "            if cMax == 0: #black\n",
    "                hsvImage[y][x][1] = 0\n",
    "            else:\n",
    "                hsvImage[y][x][1] = (delta / cMax) * 1000 #in permille\n",
    "            \n",
    "            #value (lower value is more black, higher value is more colored (0 <= saturation <= 1000))\n",
    "            hsvImage[y][x][2] = cMax * 1000 #in permille\n",
    "    \n",
    "    return hsvImage"
   ]
  },
  {
   "cell_type": "code",
   "execution_count": 8,
   "metadata": {},
   "outputs": [],
   "source": [
    "def RGB_to_HSV(rgb):\n",
    "\n",
    "    # rows = rgb.shape[0]\n",
    "    # cols = rgb.shape[1]\n",
    "    hsvImage = np.zeros_like(rgb,dtype='float64')\n",
    "\n",
    "    redPrime = rgb[:,:,0] / 255\n",
    "    greenPrime = rgb[:,:,1] / 255\n",
    "    bluePrime = rgb[:,:,2] / 255\n",
    "\n",
    "    cMax = np.maximum(np.maximum(redPrime, greenPrime), bluePrime)\n",
    "    cMin = np.minimum(np.minimum(redPrime, greenPrime), bluePrime)\n",
    "    delta = cMax - cMin\n",
    "\n",
    "    #blues are the third third of the color wheel\n",
    "    blue_max_idx = np.logical_and(cMax == bluePrime, delta != 0)\n",
    "    hsvImage[blue_max_idx, 0] = (60 * ((redPrime[blue_max_idx] - greenPrime[blue_max_idx]) / delta[blue_max_idx]) + 240) % 360\n",
    "\n",
    "    #greens are the second third of the color wheel\n",
    "    green_max_idx = np.logical_and(cMax == greenPrime, delta != 0)\n",
    "    hsvImage[green_max_idx, 0] = (60 * ((bluePrime[green_max_idx] - redPrime[green_max_idx]) / delta[green_max_idx]) + 120) % 360\n",
    "\n",
    "    #reds are the first third of the color wheel\n",
    "    red_max_idx = np.logical_and(cMax == redPrime, delta != 0)\n",
    "    hsvImage[red_max_idx, 0] = (60 * ((greenPrime[red_max_idx] - bluePrime[red_max_idx]) / delta[red_max_idx]) + 360) % 360\n",
    "\n",
    "    #if there is no net hue (no dominating color) of a pixel, set the hue to 0\n",
    "    hsvImage[delta == 0, 0] = 0\n",
    "\n",
    "    #saturation (lower value is more white, higher value is more colored (0 <= saturation <= 1000))\n",
    "    hsvImage[cMax != 0, 1] = (delta[cMax != 0] / cMax[cMax != 0]) * 1000\n",
    "\n",
    "    #value (lower value is more black, higher value is more colored (0 <= saturation <= 1000))\n",
    "    hsvImage[:,:,2] = cMax * 1000 #in permille\n",
    "\n",
    "    return hsvImage"
   ]
  },
  {
   "cell_type": "code",
   "execution_count": 9,
   "metadata": {},
   "outputs": [
    {
     "name": "stdout",
     "output_type": "stream",
     "text": [
      "False\n",
      "False\n",
      "False\n",
      "False\n",
      "False\n",
      "False\n",
      "False\n",
      "False\n",
      "False\n",
      "False\n",
      "False\n",
      "False\n",
      "False\n",
      "False\n",
      "False\n",
      "False\n",
      "False\n",
      "False\n",
      "False\n",
      "False\n",
      "False\n",
      "False\n",
      "False\n",
      "False\n",
      "False\n",
      "False\n",
      "False\n",
      "False\n",
      "False\n",
      "False\n",
      "False\n",
      "False\n",
      "False\n",
      "False\n",
      "False\n",
      "False\n",
      "False\n",
      "False\n",
      "False\n",
      "False\n",
      "False\n",
      "False\n",
      "False\n",
      "False\n",
      "False\n",
      "False\n",
      "False\n",
      "False\n",
      "False\n",
      "False\n",
      "False\n",
      "False\n",
      "False\n",
      "False\n",
      "False\n",
      "False\n",
      "False\n",
      "False\n",
      "False\n",
      "False\n",
      "False\n",
      "False\n",
      "False\n",
      "False\n",
      "False\n",
      "False\n",
      "False\n",
      "False\n",
      "False\n",
      "False\n",
      "False\n",
      "False\n",
      "False\n",
      "False\n",
      "False\n",
      "False\n",
      "False\n",
      "False\n",
      "False\n",
      "False\n",
      "False\n",
      "False\n",
      "False\n",
      "False\n",
      "False\n",
      "False\n",
      "False\n",
      "False\n",
      "False\n",
      "False\n",
      "False\n",
      "False\n",
      "False\n",
      "False\n",
      "False\n",
      "False\n",
      "False\n",
      "False\n",
      "False\n",
      "False\n"
     ]
    }
   ],
   "source": [
    "for i in range(100):\n",
    "    img = rand_chunk()\n",
    "    o = RGB_to_HSVold(img)\n",
    "    n = RGB_to_HSV(img)\n",
    "    print(np.any(~np.isclose(o, n)))"
   ]
  },
  {
   "cell_type": "code",
   "execution_count": 10,
   "metadata": {},
   "outputs": [
    {
     "data": {
      "text/plain": [
       "array([[[144.7826087 , 793.10344828, 454.90196078],\n",
       "        [ 44.32835821, 680.20304569, 772.54901961]],\n",
       "\n",
       "       [[305.58139535, 995.37037037, 847.05882353],\n",
       "        [217.41935484, 953.84615385, 764.70588235]]])"
      ]
     },
     "execution_count": 10,
     "metadata": {},
     "output_type": "execute_result"
    }
   ],
   "source": [
    "RGB_to_HSVold(img)"
   ]
  },
  {
   "cell_type": "code",
   "execution_count": 11,
   "metadata": {},
   "outputs": [
    {
     "data": {
      "text/plain": [
       "array([[[144.7826087 , 793.10344828, 454.90196078],\n",
       "        [ 44.32835821, 680.20304569, 772.54901961]],\n",
       "\n",
       "       [[305.58139535, 995.37037037, 847.05882353],\n",
       "        [217.41935484, 953.84615385, 764.70588235]]])"
      ]
     },
     "execution_count": 11,
     "metadata": {},
     "output_type": "execute_result"
    }
   ],
   "source": [
    "RGB_to_HSV(img)"
   ]
  },
  {
   "cell_type": "code",
   "execution_count": null,
   "metadata": {},
   "outputs": [],
   "source": []
  },
  {
   "cell_type": "code",
   "execution_count": null,
   "metadata": {},
   "outputs": [],
   "source": []
  },
  {
   "cell_type": "code",
   "execution_count": null,
   "metadata": {},
   "outputs": [],
   "source": []
  },
  {
   "cell_type": "code",
   "execution_count": 12,
   "metadata": {},
   "outputs": [
    {
     "data": {
      "text/plain": [
       "(array([[ 24, 197],\n",
       "        [216,   9]]),\n",
       " array([[116, 162],\n",
       "        [  1,  79]]),\n",
       " array([[ 62,  63],\n",
       "        [196, 195]]))"
      ]
     },
     "execution_count": 12,
     "metadata": {},
     "output_type": "execute_result"
    }
   ],
   "source": [
    "r = img[:,:,0]\n",
    "g = img[:,:,1]\n",
    "b = img[:,:,2]\n",
    "r,g,b"
   ]
  },
  {
   "cell_type": "code",
   "execution_count": 13,
   "metadata": {},
   "outputs": [
    {
     "data": {
      "text/plain": [
       "array([[116, 197],\n",
       "       [216, 195]])"
      ]
     },
     "execution_count": 13,
     "metadata": {},
     "output_type": "execute_result"
    }
   ],
   "source": [
    "np.maximum(np.maximum(r,g),b)"
   ]
  },
  {
   "cell_type": "code",
   "execution_count": 14,
   "metadata": {},
   "outputs": [
    {
     "data": {
      "text/plain": [
       "array([[116, 197],\n",
       "       [216,  79]])"
      ]
     },
     "execution_count": 14,
     "metadata": {},
     "output_type": "execute_result"
    }
   ],
   "source": [
    "ma = np.maximum(r, g)\n",
    "ma"
   ]
  },
  {
   "cell_type": "code",
   "execution_count": 15,
   "metadata": {},
   "outputs": [
    {
     "data": {
      "text/plain": [
       "array([[ -38,  134],\n",
       "       [  20, -186]])"
      ]
     },
     "execution_count": 15,
     "metadata": {},
     "output_type": "execute_result"
    }
   ],
   "source": [
    "r-b"
   ]
  },
  {
   "cell_type": "code",
   "execution_count": 16,
   "metadata": {},
   "outputs": [
    {
     "data": {
      "text/plain": [
       "array([[False, False],\n",
       "       [False, False]])"
      ]
     },
     "execution_count": 16,
     "metadata": {},
     "output_type": "execute_result"
    }
   ],
   "source": [
    "np.logical_and(ma == r,ma == b)"
   ]
  },
  {
   "cell_type": "code",
   "execution_count": 17,
   "metadata": {},
   "outputs": [
    {
     "data": {
      "text/plain": [
       "3"
      ]
     },
     "execution_count": 17,
     "metadata": {},
     "output_type": "execute_result"
    }
   ],
   "source": [
    "max(1,2,3)"
   ]
  },
  {
   "cell_type": "code",
   "execution_count": 18,
   "metadata": {},
   "outputs": [
    {
     "data": {
      "text/plain": [
       "array([ 44.32835821, 305.58139535])"
      ]
     },
     "execution_count": 18,
     "metadata": {},
     "output_type": "execute_result"
    }
   ],
   "source": [
    "n[ma == r, 0]"
   ]
  },
  {
   "cell_type": "code",
   "execution_count": 19,
   "metadata": {
    "scrolled": true
   },
   "outputs": [
    {
     "data": {
      "text/plain": [
       "array([[144.7826087 , 134.        ],\n",
       "       [ 20.        , 217.41935484]])"
      ]
     },
     "execution_count": 19,
     "metadata": {},
     "output_type": "execute_result"
    }
   ],
   "source": [
    "n[ma == r, 0] = (r-b)[ma == r]\n",
    "n[:,:,0]"
   ]
  },
  {
   "cell_type": "code",
   "execution_count": null,
   "metadata": {},
   "outputs": [],
   "source": []
  }
 ],
 "metadata": {
  "kernelspec": {
   "display_name": "Python 3",
   "language": "python",
   "name": "python3"
  },
  "language_info": {
   "codemirror_mode": {
    "name": "ipython",
    "version": 3
   },
   "file_extension": ".py",
   "mimetype": "text/x-python",
   "name": "python",
   "nbconvert_exporter": "python",
   "pygments_lexer": "ipython3",
   "version": "3.8.6"
  }
 },
 "nbformat": 4,
 "nbformat_minor": 4
}
